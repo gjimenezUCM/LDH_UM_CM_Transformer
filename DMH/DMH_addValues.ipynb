{
 "cells": [
  {
   "cell_type": "markdown",
   "id": "4b4bd500",
   "metadata": {},
   "source": [
    "## Add mft_values to DMH_127-AudioRecorded-DEGARI.json (ugcUsers.json)"
   ]
  },
  {
   "cell_type": "code",
   "execution_count": 5,
   "id": "d2227e5a",
   "metadata": {},
   "outputs": [],
   "source": [
    "import pandas as pd\n",
    "import json"
   ]
  },
  {
   "cell_type": "code",
   "execution_count": 6,
   "id": "49f84d77",
   "metadata": {},
   "outputs": [],
   "source": [
    "FOLDER = \"./data/\"\n",
    "FOLDERWRITE = \"./data/\""
   ]
  },
  {
   "cell_type": "code",
   "execution_count": 7,
   "id": "e910f2b5",
   "metadata": {},
   "outputs": [],
   "source": [
    "C_USER =  dict(\n",
    "    datafile ='DMH_127-AudioRecorded-DEGARI.json',\n",
    "    mftValues_datafile = 'dmh_audio_recordings.json',\n",
    "    demographicAtts = ['End-user community'],\n",
    "    explicitCommunityAtt = 'End-user community',\n",
    "    userIdAtt = 'User ID',\n",
    "    ugcfile = \"ugcUsers.json\"\n",
    ")"
   ]
  },
  {
   "cell_type": "code",
   "execution_count": 8,
   "id": "477cde36",
   "metadata": {},
   "outputs": [],
   "source": [
    "# original data with emotions\n",
    "with open(FOLDER+C_USER[\"datafile\"],encoding='utf-8') as f:\n",
    "    userData = json.load(f)"
   ]
  },
  {
   "cell_type": "code",
   "execution_count": 9,
   "id": "f4b13925",
   "metadata": {},
   "outputs": [
    {
     "data": {
      "text/plain": [
       "{'0': {'_id': '63738b60fb9758706e727881',\n",
       "  'Object name': 'Cup - Myrna',\n",
       "  'Object number': '44176',\n",
       "  'Date of recording': '17/3/2022',\n",
       "  'Context/event/workshop': 'Lahti',\n",
       "  'Contributor name': 'Terttu Valonen',\n",
       "  'User ID': '677821',\n",
       "  'End-user community': 'Senior citizens',\n",
       "  'Story ID(#)': '#44176S11',\n",
       "  'Original language ': 'Finnish',\n",
       "  'Audio recording file name': 'MYRNA 5, Terttu Valonen, 17.3.2022 Lahti',\n",
       "  'Start timestamp': '2:10',\n",
       "  'End timestamp': '2:47',\n",
       "  'Finnish translation': 'Ja just tää Myrnan kahvikuppi, että kun mä oon tämmöinen keräilijä, mulla on paljon näitä, että ottaa useampia. Kahdentoista hengen kahviastiasto löytyy kannuineen mun, tota, kodista. Ja tota on kaapit täynnä. Olen... Tykkään näistä isoista. Mulla on iso ruokasali ja siel on nää kaikki pitkät piirongit. Ne on täynnä näitä mistä mä en raaski luopua, enkä vaikken mä niitä paljon käytä, kun silloin tällöin, mutta mä rakastan kaikkea vanhaa.\\xa0\\xa0',\n",
       "  'English translation': 'And just this Myrna coffee cup, so as I am a collector like this, I have a lot of these, several. At home, I have a coffee set for twelve people, including the pot. And the cupboards are full. I am... I like these big ones. I have a big dining room and there are these long chests of drawers. They are full of these things that I don’t want to give away, although I don’t use them much, only every now and then, but I love everything that is old.\\xa0',\n",
       "  'Swedish translation': 'Och just den här Myrna-kaffekoppen, så eftersom jag är en sådan här samlare har jag många sådana, flera. Hemma har jag en kaffeservis för tolv personer, med kannan. Och skåpen är fulla. Jag är... Jag gillar de här stora. Jag har en stor matsal och det finns dessa långa byråer. De är fulla av dessa saker som jag inte vill ge bort, fast jag använder dem inte så mycket, bara då och då, men jag älskar allt som är gammalt.\\xa0',\n",
       "  'Other language translation': '*',\n",
       "  'Additional info': '*',\n",
       "  '_datasetid': '55b31e3a-0131-4f3b-ac80-04de70bfafde',\n",
       "  '_timestamp': 1668516704,\n",
       "  '_timestamp_year': 2022,\n",
       "  '_timestamp_month': 11,\n",
       "  '_timestamp_day': 15,\n",
       "  '_timestamp_hour': 12,\n",
       "  '_timestamp_minute': 51,\n",
       "  '_timestamp_second': 44,\n",
       "  'caption': 'Cup - Myrna',\n",
       "  'dc:description': 'And just this Myrna coffee cup, so as I am a collector like this, I have a lot of these, several. At home, I have a coffee set for twelve people, including the pot. And the cupboards are full. I am... I like these big ones. I have a big dining room and there are these long chests of drawers. They are full of these things that I don’t want to give away, although I don’t use them much, only every now and then, but I love everything that is old.\\xa0',\n",
       "  'degari_extracted_emotions': [''],\n",
       "  'plutchik_emotions': {'anger': 0,\n",
       "   'anticipation': 0.09090909090909091,\n",
       "   'disgust': 0,\n",
       "   'fear': 0,\n",
       "   'joy': 0.09090909090909091,\n",
       "   'sadness': 0,\n",
       "   'surprise': 0,\n",
       "   'trust': 0.18181818181818182},\n",
       "  'emotion_recognition': 'grief; loathing',\n",
       "  'concept_parsing': \"['dining room'; 'coffee'; 'i like'; NOT 'give away'; 'collector'; 'home'; 'cupboard'; 'full'; 'big'; 'chesty'; 'love'; 'old']\",\n",
       "  'subjectivity_detection': 'SUBJECTIVE',\n",
       "  'polarity_classification': 'NEGATIVE',\n",
       "  'intensity_ranking': '-0.787',\n",
       "  'aspect_extraction': \"['dining room'; 'coffee']\",\n",
       "  'personality_prediction': 'O&#8595;C&#8595;E&#8595;A&#8595;N&#8595;',\n",
       "  'depression_categorization': '66%',\n",
       "  'toxicity_spotting': '0%',\n",
       "  '@id': '63738b60fb9758706e727881'},\n",
       " '_id': '63738b60fb9758706e727881',\n",
       " '_datasetid': '86e6f3e5-6647-4107-b98b-bbde5cf9ebf5',\n",
       " '_timestamp': 1669101413,\n",
       " '_timestamp_year': 2022,\n",
       " '_timestamp_month': 11,\n",
       " '_timestamp_day': 22,\n",
       " '_timestamp_hour': 7,\n",
       " '_timestamp_minute': 16,\n",
       " '_timestamp_second': 53,\n",
       " '_updated': True}"
      ]
     },
     "execution_count": 9,
     "metadata": {},
     "output_type": "execute_result"
    }
   ],
   "source": [
    "userData[0]"
   ]
  },
  {
   "cell_type": "code",
   "execution_count": 10,
   "id": "3cdfdd59",
   "metadata": {},
   "outputs": [],
   "source": [
    "# new one with mft_values\n",
    "with open(FOLDER+ 'valuesData/' +C_USER[\"mftValues_datafile\"],encoding='utf-8') as f:\n",
    "    userDataValues = json.load(f)"
   ]
  },
  {
   "cell_type": "code",
   "execution_count": 11,
   "id": "78773f7f",
   "metadata": {},
   "outputs": [
    {
     "data": {
      "text/plain": [
       "{'_id': '63738b5b619d8873905ef6fd',\n",
       " 'Object name': 'Coffee pot - Pehtoori',\n",
       " 'Object number': '8182',\n",
       " 'Date of recording': '15/3/2022',\n",
       " 'Context/event/workshop': 'Workshop for a group, at Design Museum',\n",
       " 'Contributor name': 'Anonymous',\n",
       " 'User ID': '501851',\n",
       " 'End-user community': 'Senior citizens',\n",
       " 'Story ID(#)': '#8182S5',\n",
       " 'Original language': 'Finnish',\n",
       " 'Audio recording file name': 'PEHTOORI 1, transcription of a recording, Anonymous, 15.3.2022, Helsinki',\n",
       " 'Start timestamp': '0:02',\n",
       " 'End timestamp': '0:27',\n",
       " 'Finnish translation': 'Mul on tässä nyt tämmöinen kahvipannu, joka oli heti, joka tuli tossa kun näin nää kuvat, niin mieleen että hei, tossahan on tuttu pannu, mikä on ollut mun kotona jo. Muistaakseni mun sisko on sen ostanut mun äidille. Ja sitä tietysti käytettiin pitkään ihan kahvipannuna ja hyvät soropithan sillä tuli.',\n",
       " 'English translation': 'I have here now this kind of a coffee pot. As soon as I saw these pictures, so I was reminded that hey, that’s a familiar pot, that one has been at home. To my recollection, my sister bought it for my mother. And of course, it was used as a coffee pot for a long time, and it did make good coffee.',\n",
       " 'Swedish translation': 'Jag har här nu en sån här kaffekanna. Så fort jag såg de här bilderna, så kom jag att tänka på att hej, den där är en bekant kanna, den där har varit hemma. Så gott jag minns köpte min syster den till min mamma. Och visst, den användes länge som kaffekanna, och den gjorde gott kaffe.',\n",
       " 'Other language translation': '*',\n",
       " 'Additional info': '*',\n",
       " '_datasetid': '55b31e3a-0131-4f3b-ac80-04de70bfafde',\n",
       " '_timestamp': 1668517300,\n",
       " '_timestamp_year': 2022,\n",
       " '_timestamp_month': 11,\n",
       " '_timestamp_day': 15,\n",
       " '_timestamp_hour': 13,\n",
       " '_timestamp_minute': 1,\n",
       " '_timestamp_second': 40,\n",
       " '_updated': True,\n",
       " 'MFT_Values': ['care'],\n",
       " 'EkmanEmotions': []}"
      ]
     },
     "execution_count": 11,
     "metadata": {},
     "output_type": "execute_result"
    }
   ],
   "source": [
    "userDataValues[0]"
   ]
  },
  {
   "cell_type": "code",
   "execution_count": 12,
   "id": "9baa737e",
   "metadata": {},
   "outputs": [],
   "source": [
    "# Combine them"
   ]
  },
  {
   "cell_type": "code",
   "execution_count": 13,
   "id": "48b9c1ef",
   "metadata": {},
   "outputs": [],
   "source": [
    "userData2 = {}\n",
    "for user in userData:\n",
    "    userData2[user['_id']] = user"
   ]
  },
  {
   "cell_type": "code",
   "execution_count": 14,
   "id": "44727c4b",
   "metadata": {},
   "outputs": [],
   "source": [
    "# Combine new data with old data\n",
    "for user in userDataValues:\n",
    "    userData2[user['_id']][\"0\"][\"MFT_Values\"] = user[\"MFT_Values\"]\n",
    "    userData2[user['_id']][\"0\"][\"EkmanEmotions\"] = user[\"EkmanEmotions\"]"
   ]
  },
  {
   "cell_type": "code",
   "execution_count": 15,
   "id": "47469bbd",
   "metadata": {},
   "outputs": [
    {
     "data": {
      "text/plain": [
       "{'0': {'_id': '63738b5b28b056289c6b6f10',\n",
       "  'Object name': 'Coffee pot - Pehtoori',\n",
       "  'Object number': '8182',\n",
       "  'Date of recording': '22/03/2022',\n",
       "  'Context/event/workshop': 'Laajasalo',\n",
       "  'Contributor name': 'Anita Salmela',\n",
       "  'User ID': '147199',\n",
       "  'End-user community': 'Senior citizens',\n",
       "  'Story ID(#)': '#8182S3',\n",
       "  'Original language ': 'Finnish',\n",
       "  'Audio recording file name': 'JERRY 2, Group recording, 22.3.2022, Laajasalo',\n",
       "  'Start timestamp': '0:46',\n",
       "  'End timestamp': '1:19',\n",
       "  'Finnish translation': 'Ja mä otin tän Pehtoori-pannun, koska mun miehelläni oli tämä kun mentiin yhteen. Anoppi oli ostanut jokaiselle lapselleen. Miehellä oli sininen. Hänen tytöllään vissiin keltainen, ja toisella pojalla punainen. Ja sitähän käytettiin, sillä keitettiin aikanaan, kunnes tuli nämä suodatin… tai nämä kahvinkeittimet sitten. Ja nyt me os-- ihan hain, mut mulla ei oo aavistustakaan missä tää pannu on. Se on nyt vaan hävinnyt jonnekin, mutta ei löydy mistään.  ',\n",
       "  'English translation': 'And I chose the Pehtoori pot here, because my husband had this when we got together. The mother-in-law had bought one for each of her children. My husband had a blue one. Her daughter has yellow one, and the other son has a red one. And it was used, we made coffee with it until these filter… or, these coffee makers came. And now we… But I have no idea where this pot is. It has just disappeared somewhere, cannot be found anywhere. ',\n",
       "  'Swedish translation': 'Och jag valde Pehtoori-kannan här, för min man hade den här när vi flyttade ihop. Svärmor hade köpt en till vart och ett av sina barn. Min man hade en blå. Hennes dotter har en gul och den andra sonen har en röd. Och den användes, vi gjorde kaffe med den tills dessa filter... eller, de här kaffebryggarna kom. Och nu vi... Men jag har ingen aning om var den här potten är. Den har bara försvunnit någonstans, går inte att hitta någonstans.\\xa0',\n",
       "  'Other language translation': '*',\n",
       "  'Additional info': '*',\n",
       "  '_datasetid': '55b31e3a-0131-4f3b-ac80-04de70bfafde',\n",
       "  '_timestamp': 1668516699,\n",
       "  '_timestamp_year': 2022,\n",
       "  '_timestamp_month': 11,\n",
       "  '_timestamp_day': 15,\n",
       "  '_timestamp_hour': 12,\n",
       "  '_timestamp_minute': 51,\n",
       "  '_timestamp_second': 39,\n",
       "  'caption': 'Coffee pot - Pehtoori',\n",
       "  'dc:description': 'And I chose the Pehtoori pot here, because my husband had this when we got together. The mother-in-law had bought one for each of her children. My husband had a blue one. Her daughter has yellow one, and the other son has a red one. And it was used, we made coffee with it until these filter… or, these coffee makers came. And now we… But I have no idea where this pot is. It has just disappeared somewhere, cannot be found anywhere. ',\n",
       "  'degari_extracted_emotions': [''],\n",
       "  'plutchik_emotions': {'anger': 0,\n",
       "   'anticipation': 0,\n",
       "   'disgust': 0,\n",
       "   'fear': 0.10416666666666666,\n",
       "   'joy': 0.20833333333333331,\n",
       "   'sadness': 0.10416666666666666,\n",
       "   'surprise': 0,\n",
       "   'trust': 0.10416666666666666},\n",
       "  'emotion_recognition': 'anger',\n",
       "  'concept_parsing': \"['coffee'; 'got together'; 'children'; NOT 'idea']\",\n",
       "  'subjectivity_detection': 'SUBJECTIVE',\n",
       "  'polarity_classification': 'NEGATIVE',\n",
       "  'intensity_ranking': '-0.584',\n",
       "  'aspect_extraction': \"['coffee']\",\n",
       "  'personality_prediction': 'No personality trait detected',\n",
       "  'depression_categorization': '0%',\n",
       "  'toxicity_spotting': '0%',\n",
       "  '@id': '63738b5b28b056289c6b6f10',\n",
       "  'MFT_Values': ['fairness'],\n",
       "  'EkmanEmotions': []},\n",
       " '_id': '63738b5b28b056289c6b6f10',\n",
       " '_datasetid': '86e6f3e5-6647-4107-b98b-bbde5cf9ebf5',\n",
       " '_timestamp': 1669101413,\n",
       " '_timestamp_year': 2022,\n",
       " '_timestamp_month': 11,\n",
       " '_timestamp_day': 22,\n",
       " '_timestamp_hour': 7,\n",
       " '_timestamp_minute': 16,\n",
       " '_timestamp_second': 53,\n",
       " '_updated': True}"
      ]
     },
     "execution_count": 15,
     "metadata": {},
     "output_type": "execute_result"
    }
   ],
   "source": [
    "userData2['63738b5b28b056289c6b6f10']"
   ]
  },
  {
   "cell_type": "code",
   "execution_count": 16,
   "id": "44a1bce3",
   "metadata": {},
   "outputs": [],
   "source": [
    "with open(FOLDERWRITE+'DMH_127-AudioRecorded-DEGARI-Values.json', \"w\") as outfile:\n",
    "    json.dump(list(userData2.values()), outfile, indent=2)"
   ]
  },
  {
   "cell_type": "code",
   "execution_count": null,
   "id": "a2aede4c",
   "metadata": {},
   "outputs": [],
   "source": []
  },
  {
   "cell_type": "code",
   "execution_count": null,
   "id": "ef79ccf5",
   "metadata": {},
   "outputs": [],
   "source": []
  },
  {
   "cell_type": "code",
   "execution_count": null,
   "id": "250dfe37",
   "metadata": {},
   "outputs": [],
   "source": []
  }
 ],
 "metadata": {
  "kernelspec": {
   "display_name": "Python 3 (ipykernel)",
   "language": "python",
   "name": "python3"
  },
  "language_info": {
   "codemirror_mode": {
    "name": "ipython",
    "version": 3
   },
   "file_extension": ".py",
   "mimetype": "text/x-python",
   "name": "python",
   "nbconvert_exporter": "python",
   "pygments_lexer": "ipython3",
   "version": "3.11.1"
  },
  "toc": {
   "base_numbering": 1,
   "nav_menu": {},
   "number_sections": true,
   "sideBar": true,
   "skip_h1_title": false,
   "title_cell": "Table of Contents",
   "title_sidebar": "Contents",
   "toc_cell": false,
   "toc_position": {},
   "toc_section_display": true,
   "toc_window_display": true
  }
 },
 "nbformat": 4,
 "nbformat_minor": 5
}

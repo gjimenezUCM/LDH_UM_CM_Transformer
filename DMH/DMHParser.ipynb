{
 "cells": [
  {
   "cell_type": "code",
   "execution_count": 1,
   "id": "7a3a91a1",
   "metadata": {},
   "outputs": [],
   "source": [
    "import pandas as pd\n",
    "import json"
   ]
  },
  {
   "cell_type": "markdown",
   "id": "5f6007f2",
   "metadata": {},
   "source": [
    "## Constants"
   ]
  },
  {
   "cell_type": "code",
   "execution_count": 2,
   "id": "fce10eca",
   "metadata": {},
   "outputs": [],
   "source": [
    "# CONSTANTS\n",
    "\n",
    "# Object template to communicate data to the CM\n",
    "\n",
    "TEMPLATE = {\n",
    "    \"id\": None,\n",
    "    \"userid\": None,\n",
    "    \"origin\": None,\n",
    "    \"source_id\": \"fake90e6d701748f08514b01\",\n",
    "    \"source\": \"fake\",\n",
    "    \"pname\": None,\n",
    "    \"pvalue\": None,\n",
    "    \"context\": \"application\",\n",
    "    \"datapoints\": 0,\n",
    "    \"category\": None\n",
    "}\n",
    "\n",
    "FOLDER = \"./data/\"\n",
    "\n",
    "\n",
    "C_CONTRIB = dict(\n",
    "    datafile = 'DMH_127-AudioRecorded-DEGARI-Values.json',\n",
    "    userIdAtt = 'User ID',\n",
    "    artifactIdAtt = 'Object number',\n",
    "    contribIdAtt = '_id',\n",
    "    contribAtts = ['English translation','degari_extracted_emotions','plutchik_emotions','emotion_recognition','subjectivity_detection', 'polarity_classification','intensity_ranking','MFT_Values','EkmanEmotions'],\n",
    "    ugcfile = \"ugcContributions.json\"\n",
    ")\n",
    "\n",
    "_ID = 0"
   ]
  },
  {
   "cell_type": "markdown",
   "id": "e203d12b",
   "metadata": {},
   "source": [
    "## Users\n",
    "\n",
    "It transforms demographic data from a LDH dataset into the ugc data sent to the CM by the UM"
   ]
  },
  {
   "cell_type": "code",
   "execution_count": 3,
   "id": "5767e4af",
   "metadata": {},
   "outputs": [],
   "source": [
    "# User constants\n",
    "\n",
    "C_USER =  dict(\n",
    "    datafile ='DMH_127-AudioRecorded-DEGARI.json',\n",
    "    demographicAtts = ['End-user community'],\n",
    "    explicitCommunityAtt = 'End-user community',\n",
    "    userIdAtt = 'User ID',\n",
    "    ugcfile = \"ugcUsers.json\"\n",
    ")"
   ]
  },
  {
   "cell_type": "code",
   "execution_count": 4,
   "id": "ee3f8591",
   "metadata": {},
   "outputs": [
    {
     "ename": "UnicodeDecodeError",
     "evalue": "'charmap' codec can't decode byte 0x9d in position 24311: character maps to <undefined>",
     "output_type": "error",
     "traceback": [
      "\u001b[1;31m---------------------------------------------------------------------------\u001b[0m",
      "\u001b[1;31mUnicodeDecodeError\u001b[0m                        Traceback (most recent call last)",
      "Cell \u001b[1;32mIn[4], line 2\u001b[0m\n\u001b[0;32m      1\u001b[0m \u001b[38;5;28;01mwith\u001b[39;00m \u001b[38;5;28mopen\u001b[39m(FOLDER\u001b[38;5;241m+\u001b[39mC_USER[\u001b[38;5;124m\"\u001b[39m\u001b[38;5;124mdatafile\u001b[39m\u001b[38;5;124m\"\u001b[39m]) \u001b[38;5;28;01mas\u001b[39;00m f:\n\u001b[1;32m----> 2\u001b[0m     userData \u001b[38;5;241m=\u001b[39m \u001b[43mjson\u001b[49m\u001b[38;5;241;43m.\u001b[39;49m\u001b[43mload\u001b[49m\u001b[43m(\u001b[49m\u001b[43mf\u001b[49m\u001b[43m)\u001b[49m\n",
      "File \u001b[1;32m~\\AppData\\Local\\Programs\\Python\\Python311\\Lib\\json\\__init__.py:293\u001b[0m, in \u001b[0;36mload\u001b[1;34m(fp, cls, object_hook, parse_float, parse_int, parse_constant, object_pairs_hook, **kw)\u001b[0m\n\u001b[0;32m    274\u001b[0m \u001b[38;5;28;01mdef\u001b[39;00m \u001b[38;5;21mload\u001b[39m(fp, \u001b[38;5;241m*\u001b[39m, \u001b[38;5;28mcls\u001b[39m\u001b[38;5;241m=\u001b[39m\u001b[38;5;28;01mNone\u001b[39;00m, object_hook\u001b[38;5;241m=\u001b[39m\u001b[38;5;28;01mNone\u001b[39;00m, parse_float\u001b[38;5;241m=\u001b[39m\u001b[38;5;28;01mNone\u001b[39;00m,\n\u001b[0;32m    275\u001b[0m         parse_int\u001b[38;5;241m=\u001b[39m\u001b[38;5;28;01mNone\u001b[39;00m, parse_constant\u001b[38;5;241m=\u001b[39m\u001b[38;5;28;01mNone\u001b[39;00m, object_pairs_hook\u001b[38;5;241m=\u001b[39m\u001b[38;5;28;01mNone\u001b[39;00m, \u001b[38;5;241m*\u001b[39m\u001b[38;5;241m*\u001b[39mkw):\n\u001b[0;32m    276\u001b[0m \u001b[38;5;250m    \u001b[39m\u001b[38;5;124;03m\"\"\"Deserialize ``fp`` (a ``.read()``-supporting file-like object containing\u001b[39;00m\n\u001b[0;32m    277\u001b[0m \u001b[38;5;124;03m    a JSON document) to a Python object.\u001b[39;00m\n\u001b[0;32m    278\u001b[0m \n\u001b[1;32m   (...)\u001b[0m\n\u001b[0;32m    291\u001b[0m \u001b[38;5;124;03m    kwarg; otherwise ``JSONDecoder`` is used.\u001b[39;00m\n\u001b[0;32m    292\u001b[0m \u001b[38;5;124;03m    \"\"\"\u001b[39;00m\n\u001b[1;32m--> 293\u001b[0m     \u001b[38;5;28;01mreturn\u001b[39;00m loads(\u001b[43mfp\u001b[49m\u001b[38;5;241;43m.\u001b[39;49m\u001b[43mread\u001b[49m\u001b[43m(\u001b[49m\u001b[43m)\u001b[49m,\n\u001b[0;32m    294\u001b[0m         \u001b[38;5;28mcls\u001b[39m\u001b[38;5;241m=\u001b[39m\u001b[38;5;28mcls\u001b[39m, object_hook\u001b[38;5;241m=\u001b[39mobject_hook,\n\u001b[0;32m    295\u001b[0m         parse_float\u001b[38;5;241m=\u001b[39mparse_float, parse_int\u001b[38;5;241m=\u001b[39mparse_int,\n\u001b[0;32m    296\u001b[0m         parse_constant\u001b[38;5;241m=\u001b[39mparse_constant, object_pairs_hook\u001b[38;5;241m=\u001b[39mobject_pairs_hook, \u001b[38;5;241m*\u001b[39m\u001b[38;5;241m*\u001b[39mkw)\n",
      "File \u001b[1;32m~\\AppData\\Local\\Programs\\Python\\Python311\\Lib\\encodings\\cp1252.py:23\u001b[0m, in \u001b[0;36mIncrementalDecoder.decode\u001b[1;34m(self, input, final)\u001b[0m\n\u001b[0;32m     22\u001b[0m \u001b[38;5;28;01mdef\u001b[39;00m \u001b[38;5;21mdecode\u001b[39m(\u001b[38;5;28mself\u001b[39m, \u001b[38;5;28minput\u001b[39m, final\u001b[38;5;241m=\u001b[39m\u001b[38;5;28;01mFalse\u001b[39;00m):\n\u001b[1;32m---> 23\u001b[0m     \u001b[38;5;28;01mreturn\u001b[39;00m codecs\u001b[38;5;241m.\u001b[39mcharmap_decode(\u001b[38;5;28minput\u001b[39m,\u001b[38;5;28mself\u001b[39m\u001b[38;5;241m.\u001b[39merrors,decoding_table)[\u001b[38;5;241m0\u001b[39m]\n",
      "\u001b[1;31mUnicodeDecodeError\u001b[0m: 'charmap' codec can't decode byte 0x9d in position 24311: character maps to <undefined>"
     ]
    }
   ],
   "source": [
    "with open(FOLDER+C_USER[\"datafile\"],encoding='utf-8') as f:\n",
    "    userData = json.load(f)"
   ]
  },
  {
   "cell_type": "code",
   "execution_count": null,
   "id": "86495fd2",
   "metadata": {},
   "outputs": [],
   "source": [
    "userData[0]"
   ]
  },
  {
   "cell_type": "code",
   "execution_count": null,
   "id": "82ba5415",
   "metadata": {},
   "outputs": [],
   "source": [
    "postDict= {}\n",
    "for user in userData:  \n",
    "    user = user[\"0\"]\n",
    "    result = []\n",
    "    currentData = TEMPLATE.copy()\n",
    "    currentData[\"category\"] = \"demographics\"\n",
    "    currentData[\"userid\"] = user[C_USER[\"userIdAtt\"]]\n",
    "    for item in C_USER[\"demographicAtts\"]:\n",
    "        if item in user:\n",
    "            attData = currentData.copy()\n",
    "            attData[\"id\"] = _ID\n",
    "            _ID+=1\n",
    "            attData[\"origin\"] = attData[\"userid\"]\n",
    "            attData[\"pvalue\"] = user[item]\n",
    "            item = \"explicit-community\" if item == C_USER[\"explicitCommunityAtt\"] else item\n",
    "            attData[\"pname\"]  = item \n",
    "            result.append(attData)\n",
    "    postDict[user[C_USER[\"userIdAtt\"]]] = result"
   ]
  },
  {
   "cell_type": "code",
   "execution_count": null,
   "id": "0dafd531",
   "metadata": {},
   "outputs": [],
   "source": [
    "with open(FOLDER+C_USER[\"ugcfile\"], \"w\") as outfile:\n",
    "    json.dump(postDict, outfile, indent=2)"
   ]
  },
  {
   "cell_type": "code",
   "execution_count": null,
   "id": "10477fbe",
   "metadata": {},
   "outputs": [],
   "source": [
    "# postDict is a dictionary with userids as fields and arrays of demographic data for the CM as values\n",
    "# To POST users to a CM server in localhost:8080 uncomment next lines\n",
    "# server = \"http://localhost:8080\"\n",
    "# for key, value in postDict.items():\n",
    "#    response=requests.post(f'{server}/v1.1/users/{key}/update-generated-content', json = value)\n",
    "#    procesar el resultado de response"
   ]
  },
  {
   "cell_type": "markdown",
   "id": "1ccff892",
   "metadata": {},
   "source": [
    "## Contributions\n"
   ]
  },
  {
   "cell_type": "code",
   "execution_count": null,
   "id": "7d0f9d2b",
   "metadata": {},
   "outputs": [],
   "source": [
    "with open(FOLDER+C_CONTRIB[\"datafile\"]) as f:\n",
    "    contribData = json.load(f)"
   ]
  },
  {
   "cell_type": "code",
   "execution_count": null,
   "id": "016af421",
   "metadata": {},
   "outputs": [],
   "source": [
    "postDict= { att: {} for att in C_CONTRIB[\"contribAtts\"]}"
   ]
  },
  {
   "cell_type": "code",
   "execution_count": null,
   "id": "efca212c",
   "metadata": {},
   "outputs": [],
   "source": [
    "for contrib in contribData:  \n",
    "    contrib = contrib[\"0\"]\n",
    "    currentData = TEMPLATE.copy()\n",
    "    currentData[\"category\"] = \"interest\"\n",
    "    currentData[\"userid\"] = contrib[C_CONTRIB[\"userIdAtt\"]]\n",
    "    currentData[\"id\"] = contrib[C_CONTRIB[\"contribIdAtt\"]]\n",
    "    currentData[\"origin\"] = contrib[C_CONTRIB[\"artifactIdAtt\"]]\n",
    "    for interactionAtt in C_CONTRIB[\"contribAtts\"]:\n",
    "        if interactionAtt in contrib:\n",
    "            interactionData = currentData.copy()\n",
    "            interactionData['pname'] = interactionAtt\n",
    "            interactionData['pvalue'] = contrib[interactionAtt]\n",
    "            if contrib[C_CONTRIB[\"userIdAtt\"]] in postDict[interactionAtt]:\n",
    "                postDict[interactionAtt][contrib[C_CONTRIB[\"userIdAtt\"]]].append(interactionData)\n",
    "            else:\n",
    "                postDict[interactionAtt][contrib[C_CONTRIB[\"userIdAtt\"]]] = [interactionData]"
   ]
  },
  {
   "cell_type": "code",
   "execution_count": null,
   "id": "9918f177",
   "metadata": {},
   "outputs": [],
   "source": [
    "postDict"
   ]
  },
  {
   "cell_type": "markdown",
   "id": "e07eb1e6",
   "metadata": {},
   "source": [
    "# Change pname to allow the CM to know the text associated to the interaction"
   ]
  },
  {
   "cell_type": "code",
   "execution_count": null,
   "id": "a8c27603",
   "metadata": {},
   "outputs": [],
   "source": [
    "changeNameDict = {}\n",
    "changeNameDict['English translation'] = 'text'"
   ]
  },
  {
   "cell_type": "code",
   "execution_count": null,
   "id": "1bc9b434",
   "metadata": {},
   "outputs": [],
   "source": [
    "postDict2 = {}\n",
    "for key in postDict:\n",
    "    if (key in changeNameDict):\n",
    "        for userid in postDict[key]:\n",
    "            for interaction in postDict[key][userid]:\n",
    "                interaction['pname'] = changeNameDict[key]\n",
    "        postDict2[changeNameDict[key]] = postDict[key]\n",
    "    else:\n",
    "        postDict2[key] = postDict[key]\n",
    "postDict = postDict2 "
   ]
  },
  {
   "cell_type": "code",
   "execution_count": null,
   "id": "e80add8a",
   "metadata": {},
   "outputs": [],
   "source": [
    "# Save the file"
   ]
  },
  {
   "cell_type": "code",
   "execution_count": null,
   "id": "b21014a9",
   "metadata": {},
   "outputs": [],
   "source": [
    "with open(FOLDER+C_CONTRIB[\"ugcfile\"], \"w\") as outfile:\n",
    "    json.dump(postDict, outfile, indent=2)"
   ]
  },
  {
   "cell_type": "code",
   "execution_count": null,
   "id": "c0ac2dab",
   "metadata": {},
   "outputs": [],
   "source": []
  },
  {
   "cell_type": "code",
   "execution_count": null,
   "id": "231e8f47",
   "metadata": {},
   "outputs": [],
   "source": []
  },
  {
   "cell_type": "code",
   "execution_count": null,
   "id": "8976de9c",
   "metadata": {},
   "outputs": [],
   "source": []
  },
  {
   "cell_type": "code",
   "execution_count": null,
   "id": "49453a72",
   "metadata": {},
   "outputs": [],
   "source": []
  },
  {
   "cell_type": "code",
   "execution_count": null,
   "id": "fbfbabad",
   "metadata": {},
   "outputs": [],
   "source": []
  },
  {
   "cell_type": "code",
   "execution_count": null,
   "id": "a8d3314c",
   "metadata": {},
   "outputs": [],
   "source": []
  }
 ],
 "metadata": {
  "kernelspec": {
   "display_name": "Python 3 (ipykernel)",
   "language": "python",
   "name": "python3"
  },
  "language_info": {
   "codemirror_mode": {
    "name": "ipython",
    "version": 3
   },
   "file_extension": ".py",
   "mimetype": "text/x-python",
   "name": "python",
   "nbconvert_exporter": "python",
   "pygments_lexer": "ipython3",
   "version": "3.11.1"
  },
  "toc": {
   "base_numbering": 1,
   "nav_menu": {},
   "number_sections": true,
   "sideBar": true,
   "skip_h1_title": false,
   "title_cell": "Table of Contents",
   "title_sidebar": "Contents",
   "toc_cell": false,
   "toc_position": {},
   "toc_section_display": true,
   "toc_window_display": true
  }
 },
 "nbformat": 4,
 "nbformat_minor": 5
}
